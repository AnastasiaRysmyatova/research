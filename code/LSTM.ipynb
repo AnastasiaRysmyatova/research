{
 "cells": [
  {
   "cell_type": "markdown",
   "metadata": {},
   "source": [
    "### LSTM"
   ]
  },
  {
   "cell_type": "markdown",
   "metadata": {},
   "source": [
    "В данном ноутбуке приведен код для экспериментов с LSTM сетью. \n",
    "\n",
    "Для проверки экспериментов необходимо скачать предобученную модель с сайта\n",
    "\n",
    "https://github.com/facebookresearch/fastText/blob/master/pretrained-vectors.md"
   ]
  },
  {
   "cell_type": "code",
   "execution_count": null,
   "metadata": {
    "collapsed": true
   },
   "outputs": [],
   "source": [
    "import pandas as pd\n",
    "import numpy as np\n",
    "%matplotlib inline"
   ]
  },
  {
   "cell_type": "code",
   "execution_count": null,
   "metadata": {
    "collapsed": true
   },
   "outputs": [],
   "source": [
    "def Concat_data(D, age):\n",
    "    label = np.zeros(D.shape[0]*(D.shape[0]-1))\n",
    "    \n",
    "    Data_a = np.zeros((D.shape[0]*(D.shape[0]-1), 140, 300))\n",
    "    Data_b = np.zeros((D.shape[0]*(D.shape[0]-1), 140, 300))\n",
    "    L = []\n",
    "    \n",
    "    ind = 0\n",
    "    for i in range(D.shape[0]):\n",
    "        for j in range(D.shape[0]):\n",
    "            if i != j:\n",
    "                \n",
    "            #Data.iloc[ind] = D['text'][i], D['title'][i], D['text'][j], D['title'][j], D['age'][i] >  D['age'][j]\n",
    "                Data_a[ind] = D[i]\n",
    "                Data_b[ind] = D[j]\n",
    "                label[ind] = age[i]>age[j]\n",
    "                ind += 1\n",
    "                \n",
    "    return Data_a, Data_b, label"
   ]
  },
  {
   "cell_type": "code",
   "execution_count": null,
   "metadata": {
    "collapsed": true
   },
   "outputs": [],
   "source": [
    "Data = pd.read_csv('lyric.csv', header=None)\n",
    "name_and_year = Data[0].str.split('-')\n",
    "name = []\n",
    "year = []\n",
    "title = []\n",
    "for s in name_and_year:\n",
    "    name.append(s[0])\n",
    "    year.append(s[1][-5:-1])\n",
    "    title.append(s[1][:-7])\n",
    "    \n",
    "Data['title'] = title\n",
    "Data['author_name'] = name\n",
    "Data['year'] = Data[0].str[-5:-1].astype('int')\n",
    "Data.columns = ['inf', 'text', 'title', 'author_name', 'year']\n",
    "Data.drop(np.array(range(Data.shape[0]))[np.array(Data.text.str.count(' ')<5)], axis = 0, inplace=True)\n",
    "Data.index = np.array(range(Data.shape[0]))\n",
    "D = Data.loc[Data.text.str.len() < 1014, :][Data.columns[1:]]\n",
    "D.index = np.array(range(D.shape[0]))\n",
    "D['name'] = pd.DataFrame(list(D.author_name.str.split(' ')), index = None)[0]\n",
    "D['surname'] = pd.DataFrame(list(D.author_name.str.split(' ')), index = None)[1]\n",
    "bithday = pd.read_csv('years.txt', sep = ' ', header = None)\n",
    "bithday.columns = ['surname', 'name', 'year_bith']\n",
    "D = D.merge(bithday, on=[\"surname\", \"name\"])\n",
    "D.index = np.array(range(D.shape[0]))\n",
    "\n",
    "D.year = D.year.astype('int')\n",
    "D['age'] = D.year - D.year_bith\n",
    "\n",
    "D.text = D.text.str.lower()\n",
    "D.text = D.text.str.replace('\\n', ' ')\n",
    "\n",
    "import string\n",
    "\n",
    "translator = str.maketrans('', '', string.punctuation)\n",
    "D.text = D.text.str.translate(translator)\n",
    "\n",
    "D.text = D.text.str.replace('  ', ' ')\n",
    "D.text = D.text.str.replace('  ', ' ')\n",
    "D.text = D.text.str.replace('  ', ' ')\n",
    "D.text = D.text.str.replace('  ', ' ')\n",
    "D.text = D.text.str.replace('  ', ' ')\n",
    "\n",
    "D.text = D.text.str.split(' ')"
   ]
  },
  {
   "cell_type": "code",
   "execution_count": null,
   "metadata": {
    "collapsed": true
   },
   "outputs": [],
   "source": []
  },
  {
   "cell_type": "code",
   "execution_count": null,
   "metadata": {
    "collapsed": true
   },
   "outputs": [],
   "source": [
    "import gensim\n",
    "\n",
    "model = gensim.models.Word2Vec.load('model_w2v',mmap='r')"
   ]
  },
  {
   "cell_type": "code",
   "execution_count": null,
   "metadata": {
    "collapsed": true
   },
   "outputs": [],
   "source": [
    "data = np.zeros((D.text.shape[0], 140,  300))\n",
    "i = 0\n",
    "for text in D.text:\n",
    "    j = 0\n",
    "    for word in text:\n",
    "        if j > 0:\n",
    "            try:\n",
    "                data[i, j] = model.wv[word]\n",
    "            except:\n",
    "                j -= 1\n",
    "        j += 1\n",
    "    i += 1"
   ]
  },
  {
   "cell_type": "code",
   "execution_count": null,
   "metadata": {
    "collapsed": true
   },
   "outputs": [],
   "source": [
    "r = 0# for r in range(D.author_name.unique().shape[0])\n",
    "\n",
    "from sklearn.model_selection import LeaveOneGroupOut\n",
    "from sklearn import ensemble\n",
    "import sklearn\n",
    "from sklearn.model_selection import train_test_split\n",
    "from sklearn import preprocessing\n",
    "from sklearn import linear_model\n",
    "clf = sklearn.preprocessing.LabelEncoder()\n",
    "clf.fit(D.author_name)\n",
    "label = clf.transform(D.author_name)\n",
    "\n",
    "\n",
    "from sklearn.model_selection import train_test_split\n",
    "\n",
    "\n",
    "groups = np.zeros(label.shape).astype('int')\n",
    "X = D.copy()\n",
    "Y = X['age']\n",
    "#X.drop('age', axis = 1, inplace = True)\n",
    "\n",
    "#clf.fit(X[:70000], Y[:70000])\n",
    "X_train, X_test, y_train, y_test = train_test_split(data[label == r], Y[label == r], test_size=0.2, random_state=2)\n",
    "print(X_train.shape, y_train.shape)\n",
    "print(X_test.shape, y_test.shape)\n",
    "data_a, data_b, label = Concat_data(X_train, np.array(y_train))\n",
    "data_test_a, data_test_b, lab = Concat_data(X_test, np.array(y_test))"
   ]
  },
  {
   "cell_type": "markdown",
   "metadata": {},
   "source": [
    "### LSTM "
   ]
  },
  {
   "cell_type": "code",
   "execution_count": null,
   "metadata": {
    "collapsed": true
   },
   "outputs": [],
   "source": []
  },
  {
   "cell_type": "code",
   "execution_count": null,
   "metadata": {
    "collapsed": true
   },
   "outputs": [],
   "source": [
    "import keras\n",
    "from keras.layers import Input, LSTM, Dense\n",
    "from keras.models import Model\n",
    "\n",
    "tweet_a = Input(shape=(140, 300))\n",
    "tweet_b = Input(shape=(140, 300))\n",
    "# This layer can take as input a matrix\n",
    "# and will return a vector of size 64\n",
    "shared_lstm = LSTM(64)\n",
    "\n",
    "# When we reuse the same layer instance\n",
    "# multiple times, the weights of the layer\n",
    "# are also being reused\n",
    "# (it is effectively *the same* layer)\n",
    "encoded_a = shared_lstm(tweet_a)\n",
    "encoded_b = shared_lstm(tweet_b)\n",
    "\n",
    "# We can then concatenate the two vectors:\n",
    "merged_vector = keras.layers.concatenate([encoded_a, encoded_b], axis=-1)\n",
    "\n",
    "# And add a logistic regression on top\n",
    "predictions = Dense(1, activation='sigmoid')(merged_vector)\n",
    "\n",
    "# We define a trainable model linking the\n",
    "# tweet inputs to the predictions\n",
    "model = Model(inputs=[tweet_a, tweet_b], outputs=predictions)\n",
    "\n",
    "model.compile(optimizer='rmsprop',\n",
    "              loss='binary_crossentropy',\n",
    "              metrics=['accuracy'])\n",
    "model.fit([data_a, data_b], label, epochs=10)"
   ]
  }
 ],
 "metadata": {
  "kernelspec": {
   "display_name": "Python [conda root]",
   "language": "python",
   "name": "conda-root-py"
  },
  "language_info": {
   "codemirror_mode": {
    "name": "ipython",
    "version": 3
   },
   "file_extension": ".py",
   "mimetype": "text/x-python",
   "name": "python",
   "nbconvert_exporter": "python",
   "pygments_lexer": "ipython3",
   "version": "3.5.2"
  }
 },
 "nbformat": 4,
 "nbformat_minor": 2
}
